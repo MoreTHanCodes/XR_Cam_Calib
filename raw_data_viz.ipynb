{
 "cells": [
  {
   "cell_type": "code",
   "execution_count": 1,
   "id": "1db3d00d-449f-4cea-9166-54d7fe389057",
   "metadata": {
    "execution": {
     "iopub.execute_input": "2021-12-16T08:24:06.160292Z",
     "iopub.status.busy": "2021-12-16T08:24:06.160000Z",
     "iopub.status.idle": "2021-12-16T08:24:06.671467Z",
     "shell.execute_reply": "2021-12-16T08:24:06.670707Z",
     "shell.execute_reply.started": "2021-12-16T08:24:06.160264Z"
    }
   },
   "outputs": [],
   "source": [
    "import cv2 as cv\r\n",
    "import pandas as pd\r\n",
    "import numpy as np\r\n",
    "import matplotlib.pyplot as plt\r\n",
    "import math"
   ]
  },
  {
   "cell_type": "code",
   "execution_count": 2,
   "id": "8d1155da-ed9f-481a-88e3-d48e20c6a0f1",
   "metadata": {
    "execution": {
     "iopub.execute_input": "2021-12-16T08:24:06.673681Z",
     "iopub.status.busy": "2021-12-16T08:24:06.673358Z",
     "iopub.status.idle": "2021-12-16T08:24:06.708813Z",
     "shell.execute_reply": "2021-12-16T08:24:06.708028Z",
     "shell.execute_reply.started": "2021-12-16T08:24:06.673652Z"
    }
   },
   "outputs": [],
   "source": [
    "frame = pd.read_excel('../../data/raw_data.xlsx')"
   ]
  },
  {
   "cell_type": "code",
   "execution_count": 3,
   "id": "15581129-20b9-444b-976c-261fac2ed340",
   "metadata": {
    "execution": {
     "iopub.execute_input": "2021-12-16T08:24:06.710493Z",
     "iopub.status.busy": "2021-12-16T08:24:06.709906Z",
     "iopub.status.idle": "2021-12-16T08:24:06.714869Z",
     "shell.execute_reply": "2021-12-16T08:24:06.714097Z",
     "shell.execute_reply.started": "2021-12-16T08:24:06.710460Z"
    }
   },
   "outputs": [],
   "source": [
    "data = frame.to_numpy()\r\n",
    "n, c = data.shape\r\n",
    "raw_data, r_data, g_data, b_data = data[:,0], data[:,1], data[:,2], data[:,3]"
   ]
  },
  {
   "cell_type": "code",
   "execution_count": null,
   "id": "8774ffa7-5102-41d9-9b97-5e6c5d29ca42",
   "metadata": {},
   "outputs": [],
   "source": [
    "for i in range(100):\r\n",
    "    theta = i * 0.01 * 2 * math.pi\r\n",
    "    raw_x = raw_data * math.cos(theta)\r\n",
    "    raw_y = raw_data * math.sin(theta)\r\n",
    "    plt.plot(raw_x, raw_y)\r\n",
    "\r\n",
    "plt.show()"
   ]
  },
  {
   "cell_type": "code",
   "execution_count": 5,
   "id": "474bfa27-6be3-4891-8b2b-bd0f358134aa",
   "metadata": {
    "execution": {
     "iopub.execute_input": "2021-12-16T08:24:07.138021Z",
     "iopub.status.busy": "2021-12-16T08:24:07.137457Z",
     "iopub.status.idle": "2021-12-16T08:24:07.141504Z",
     "shell.execute_reply": "2021-12-16T08:24:07.140710Z",
     "shell.execute_reply.started": "2021-12-16T08:24:07.137979Z"
    }
   },
   "outputs": [],
   "source": [
    "# angles = np.array([i for i in range(100)]) * 0.01 * 2 * math.pi"
   ]
  },
  {
   "cell_type": "code",
   "execution_count": null,
   "id": "4f9d9454-5fa9-41a1-aba2-f5f54e4c109f",
   "metadata": {},
   "outputs": [],
   "source": [
    "# fig, ax = plt.subplots()\r\n",
    "# ax.plot(raw, raw, 'y', label='raw')\r\n",
    "# ax.plot(raw, r, 'r', label='red')\r\n",
    "# ax.plot(raw, g, 'g', label='green')\r\n",
    "# ax.plot(raw, b, 'b', label='blue')\r\n",
    "# ax.set_xlabel('raw pos.')\r\n",
    "# ax.set_ylabel('dist. pos.')\r\n",
    "# ax.legend()"
   ]
  }
 ],
 "metadata": {
  "kernelspec": {
   "display_name": "Python 3",
   "language": "python",
   "name": "py35-paddle1.2.0"
  },
  "language_info": {
   "codemirror_mode": {
    "name": "ipython",
    "version": 3
   },
   "file_extension": ".py",
   "mimetype": "text/x-python",
   "name": "python",
   "nbconvert_exporter": "python",
   "pygments_lexer": "ipython3",
   "version": "3.7.4"
  }
 },
 "nbformat": 4,
 "nbformat_minor": 5
}
