{
 "cells": [
  {
   "cell_type": "code",
   "execution_count": null,
   "id": "1db3d00d-449f-4cea-9166-54d7fe389057",
   "metadata": {
    "execution": {
     "iopub.execute_input": "2021-12-16T08:24:06.160292Z",
     "iopub.status.busy": "2021-12-16T08:24:06.160000Z",
     "iopub.status.idle": "2021-12-16T08:24:06.671467Z",
     "shell.execute_reply": "2021-12-16T08:24:06.670707Z",
     "shell.execute_reply.started": "2021-12-16T08:24:06.160264Z"
    }
   },
   "outputs": [],
   "source": [
    "# import cv2 as cv\n",
    "# import math\n",
    "import matplotlib.pyplot as plt\n",
    "import pandas as pd\n",
    "import numpy as np"
   ]
  },
  {
   "cell_type": "code",
   "execution_count": null,
   "id": "8d1155da-ed9f-481a-88e3-d48e20c6a0f1",
   "metadata": {
    "execution": {
     "iopub.execute_input": "2021-12-16T08:24:06.673681Z",
     "iopub.status.busy": "2021-12-16T08:24:06.673358Z",
     "iopub.status.idle": "2021-12-16T08:24:06.708813Z",
     "shell.execute_reply": "2021-12-16T08:24:06.708028Z",
     "shell.execute_reply.started": "2021-12-16T08:24:06.673652Z"
    }
   },
   "outputs": [],
   "source": [
    "frame = pd.read_excel('./data/raw_data.xlsx')"
   ]
  },
  {
   "cell_type": "code",
   "execution_count": null,
   "id": "15581129-20b9-444b-976c-261fac2ed340",
   "metadata": {
    "execution": {
     "iopub.execute_input": "2021-12-16T08:24:06.710493Z",
     "iopub.status.busy": "2021-12-16T08:24:06.709906Z",
     "iopub.status.idle": "2021-12-16T08:24:06.714869Z",
     "shell.execute_reply": "2021-12-16T08:24:06.714097Z",
     "shell.execute_reply.started": "2021-12-16T08:24:06.710460Z"
    }
   },
   "outputs": [],
   "source": [
    "data = frame.to_numpy()\n",
    "n, c = data.shape\n",
    "raw, r_dist, g_dist, b_dist = data[:,0], data[:,1], data[:,2], data[:,3]"
   ]
  },
  {
   "cell_type": "code",
   "execution_count": null,
   "id": "3335228c",
   "metadata": {},
   "outputs": [],
   "source": [
    "scale = g_dist[0] / raw[0]\n",
    "g_undist = raw * scale"
   ]
  },
  {
   "cell_type": "code",
   "execution_count": null,
   "id": "928c5f96",
   "metadata": {},
   "outputs": [],
   "source": [
    "# Prepare data\n",
    "r_dist = g_dist.reshape(-1,1)\n",
    "r_undist = g_undist.reshape(-1,1)\n",
    "r_undist_pow2 = pow(r_undist, 2)\n",
    "r_undist_pow3 = pow(r_undist, 3)\n",
    "r_undist_pow4 = pow(r_undist, 4)\n",
    "r_undist_pow5 = pow(r_undist, 5)\n",
    "\n",
    "# Calculate distortion model params\n",
    "d = (r_dist / r_undist)\n",
    "D_tp = np.array([np.ones(r_undist.shape), r_undist, r_undist_pow2, r_undist_pow3, r_undist_pow4]).reshape(5,-1)\n",
    "D = D_tp.transpose()\n",
    "b = np.matmul(D_tp, d)\n",
    "A = np.matmul(D_tp, D)\n",
    "x = np.matmul(np.linalg.inv(A), b)\n",
    "print(x)\n",
    "\n",
    "# Test model\n",
    "k0, k1, k2, k3, k4 = x[0], x[1], x[2], x[3], x[4]\n",
    "r_dist_pred = r_undist * k0 + r_undist_pow2 * k1 + r_undist_pow3 * k2 + r_undist_pow4 * k3 + r_undist_pow5 * k4\n",
    "\n",
    "fig, ax = plt.subplots()\n",
    "ax.plot(r_undist, r_undist, label='r_undist')\n",
    "ax.plot(r_undist, r_dist, label='r_dist')\n",
    "ax.plot(r_undist, r_dist_pred, label='r_dist_pred')\n",
    "ax.set_xlabel('x label')  # Add an x-label to the axes.\n",
    "ax.set_ylabel('y label')  # Add a y-label to the axes.\n",
    "ax.set_title(\"Simple Plot\")  # Add a title to the axes.\n",
    "ax.legend();  # Add a legend."
   ]
  }
 ],
 "metadata": {
  "interpreter": {
   "hash": "f93ab016d110919c3809f6aebac7bef57dcfdf9d7e14dc01b812411b60cb9137"
  },
  "kernelspec": {
   "display_name": "Python 3",
   "language": "python",
   "name": "python3"
  },
  "language_info": {
   "codemirror_mode": {
    "name": "ipython",
    "version": 3
   },
   "file_extension": ".py",
   "mimetype": "text/x-python",
   "name": "python",
   "nbconvert_exporter": "python",
   "pygments_lexer": "ipython3",
   "version": "3.9.7"
  }
 },
 "nbformat": 4,
 "nbformat_minor": 5
}
